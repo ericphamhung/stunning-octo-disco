{
 "cells": [
  {
   "cell_type": "code",
   "execution_count": 102,
   "metadata": {},
   "outputs": [],
   "source": [
    "import luigi\n",
    "import psycopg2\n",
    "import pandas as pd\n",
    "import datetime\n",
    "from luigi.contrib import postgres\n",
    "from luigi.contrib import rdbms\n",
    "import subprocess\n",
    "from psycopg2.extensions import ISOLATION_LEVEL_AUTOCOMMIT\n",
    "from sqlalchemy import create_engine\n",
    "import numpy as np\n",
    "import os\n",
    "from time import time\n",
    "import seaborn as sns\n",
    "import math\n",
    "import matplotlib.pyplot as plt\n",
    "from sklearn.linear_model import LogisticRegression\n",
    "from sklearn.preprocessing import OneHotEncoder\n",
    "from sklearn.impute import SimpleImputer\n",
    "# from __future__ import division\n",
    "sqluser = 'postgres'\n",
    "sourcedb = 'mimic'\n",
    "schema_name = 'mimiciii'\n",
    "pw = 'postgres'\n",
    "targetdb = 'munge'"
   ]
  },
  {
   "cell_type": "code",
   "execution_count": 2,
   "metadata": {},
   "outputs": [],
   "source": [
    "con=psycopg2.connect(user=sqluser,\n",
    "                     password=pw,\n",
    "                     host='/var/run/postgresql/',\n",
    "                     dbname=targetdb)\n",
    "con.set_isolation_level(ISOLATION_LEVEL_AUTOCOMMIT)\n",
    "cursor = con.cursor()"
   ]
  },
  {
   "cell_type": "code",
   "execution_count": 16,
   "metadata": {},
   "outputs": [],
   "source": [
    "def getsaps2(dff, idid):\n",
    "    SAPS_score = 0\n",
    "    dff=dff[dff['icustay_id']==idid]\n",
    "    #AGE\n",
    "    var = 'age_at_adm'\n",
    "    if dff.iloc[0][var]<40:\n",
    "        pass\n",
    "    elif dff.iloc[0][var]<60:\n",
    "        SAPS_score += 7\n",
    "    elif dff.iloc[0][var]<70:\n",
    "        SAPS_score += 12\n",
    "    elif dff.iloc[0][var]<75:\n",
    "        SAPS_score += 15\n",
    "    elif dff.iloc[0][var]<80:\n",
    "        SAPS_score += 16\n",
    "    else:\n",
    "        SAPS_score += 18\n",
    "    #HEART RATE\n",
    "    var = 'heart_rate'\n",
    "    if math.isnan(dff.iloc[0][var]):\n",
    "        pass\n",
    "    elif dff.iloc[0][var]<40:\n",
    "        SAPS_score += 11\n",
    "    elif dff.iloc[0][var]<70:\n",
    "        SAPS_score += 2\n",
    "    elif dff.iloc[0][var]<120:\n",
    "        SAPS_score += 0\n",
    "    elif dff.iloc[0][var]<160:\n",
    "        SAPS_score += 4\n",
    "    else:\n",
    "        SAPS_score += 7\n",
    "    #SYSTOLIC BP\n",
    "    var = 'systolic_bp'\n",
    "    if math.isnan(dff.iloc[0][var]):\n",
    "        pass\n",
    "    elif dff.iloc[0][var]<70:\n",
    "        SAPS_score += 13\n",
    "    elif dff.iloc[0][var]<100:\n",
    "        SAPS_score += 5\n",
    "    elif dff.iloc[0][var]<200:\n",
    "        SAPS_score += 0\n",
    "    else:\n",
    "        SAPS_score += 2\n",
    "    #BODY TEMP\n",
    "    var = 'body_temp'\n",
    "    if math.isnan(dff.iloc[0][var]):\n",
    "        pass    \n",
    "    elif dff.iloc[0][var]<39:\n",
    "        SAPS_score += 0\n",
    "    else:\n",
    "        SAPS_score += 3\n",
    "    #GCS Total\n",
    "    var = 'gcs_total'\n",
    "    if math.isnan(dff.iloc[0][var]):\n",
    "        pass\n",
    "    elif dff.iloc[0][var]<6:\n",
    "        SAPS_score += 26\n",
    "    elif dff.iloc[0][var]<8:\n",
    "        SAPS_score += 13\n",
    "    elif dff.iloc[0][var]<10:\n",
    "        SAPS_score += 7\n",
    "    elif dff.iloc[0][var]<14:\n",
    "        SAPS_score += 5\n",
    "    else:\n",
    "        SAPS_score += 0\n",
    "    #PAO2/FIO2\n",
    "    var = 'pao2_fio2_ratio'\n",
    "    if math.isnan(dff.iloc[0][var]):\n",
    "        pass\n",
    "    elif dff.iloc[0][var]<100:\n",
    "        SAPS_score += 11\n",
    "    elif dff.iloc[0][var]<200:\n",
    "        SAPS_score += 9\n",
    "    else:\n",
    "        SAPS_score += 6\n",
    "    #BUN\n",
    "    var = 'bun'\n",
    "    if math.isnan(dff.iloc[0][var]):\n",
    "        pass    \n",
    "    elif dff.iloc[0][var]<28:\n",
    "        SAPS_score += 0\n",
    "    elif dff.iloc[0][var]<84:\n",
    "        SAPS_score += 6\n",
    "    else:\n",
    "        SAPS_score += 10\n",
    "    #URINE\n",
    "    var='urine'\n",
    "    if math.isnan(dff.iloc[0][var]):\n",
    "        pass    \n",
    "    elif dff.iloc[0][var]<500:\n",
    "        SAPS_score += 11\n",
    "    elif dff.iloc[0][var]<1000:\n",
    "        SAPS_score += 4\n",
    "    else:\n",
    "        SAPS_score += 0\n",
    "    #SODIUM\n",
    "    var='sodium'\n",
    "    if math.isnan(dff.iloc[0][var]):\n",
    "        pass    \n",
    "    elif dff.iloc[0][var]<125:\n",
    "        SAPS_score += 5\n",
    "    elif dff.iloc[0][var]<145:\n",
    "        SAPS_score += 0\n",
    "    else:\n",
    "        SAPS_score += 1\n",
    "    #POTASSIUM\n",
    "    var='potassium'\n",
    "    if math.isnan(dff.iloc[0][var]):\n",
    "        pass\n",
    "    elif dff.iloc[0][var]<3:\n",
    "        SAPS_score += 3\n",
    "    elif dff.iloc[0][var]<5:\n",
    "        SAPS_score += 0\n",
    "    else:\n",
    "        SAPS_score += 3\n",
    "    #BICARRBONATE\n",
    "    var='serum_bicarb'\n",
    "    if math.isnan(dff.iloc[0][var]):\n",
    "        pass    \n",
    "    elif dff.iloc[0][var]<15:\n",
    "        SAPS_score += 6\n",
    "    elif dff.iloc[0][var]<20:\n",
    "        SAPS_score += 3\n",
    "    else:\n",
    "        SAPS_score += 0\n",
    "    #BILIRUBIN\n",
    "    var='bilirubin'\n",
    "    if math.isnan(dff.iloc[0][var]):\n",
    "        pass\n",
    "    elif dff.iloc[0][var]<4:\n",
    "        SAPS_score += 0\n",
    "    elif dff.iloc[0][var]<6:\n",
    "        SAPS_score += 4\n",
    "    else:\n",
    "        SAPS_score += 9\n",
    "    #WBC\n",
    "    var='wbc'\n",
    "    if math.isnan(dff.iloc[0][var]):\n",
    "        pass\n",
    "    elif dff.iloc[0][var]<1:\n",
    "        SAPS_score += 12\n",
    "    elif dff.iloc[0][var]<20:\n",
    "        SAPS_score += 0\n",
    "    else:\n",
    "        SAPS_score += 3\n",
    "    #CHRONIC DISEASE\n",
    "    if dff.iloc[0]['has_aids']==1:\n",
    "        SAPS_score += 17\n",
    "    elif dff.iloc[0]['has_heme']==1:\n",
    "        SAPS_score += 10\n",
    "    elif dff.iloc[0]['has_cancer']==1:\n",
    "        SAPS_score += 9\n",
    "    else:\n",
    "        SAPS_score += 0    \n",
    "    \n",
    "    x = -7.7631 + (0.0737 * (SAPS_score)) + (0.9971 * (math.log(SAPS_score +1)))\n",
    "    mort = math.exp(x)/(1+math.exp(x))\n",
    "    \n",
    "    return mort"
   ]
  },
  {
   "cell_type": "code",
   "execution_count": 63,
   "metadata": {},
   "outputs": [
    {
     "name": "stdout",
     "output_type": "stream",
     "text": [
      "3496 20614\n",
      "4205 8273\n",
      "3753 3962\n",
      "4039 2372\n",
      "2415 862\n",
      "1714 312\n",
      "823 101\n",
      "759 23\n",
      "465 7\n",
      "156 0\n"
     ]
    }
   ],
   "source": [
    "print(df1['died'].sum(), df1['died'].count()-df1['died'].sum())\n",
    "print(df2['died'].sum(), df2['died'].count()-df2['died'].sum())\n",
    "print(df3['died'].sum(), df3['died'].count()-df3['died'].sum())\n",
    "print(df4['died'].sum(), df4['died'].count()-df4['died'].sum())\n",
    "print(df5['died'].sum(), df5['died'].count()-df5['died'].sum())\n",
    "print(df6['died'].sum(), df6['died'].count()-df6['died'].sum())\n",
    "print(df7['died'].sum(), df7['died'].count()-df7['died'].sum())\n",
    "print(df8['died'].sum(), df8['died'].count()-df8['died'].sum())\n",
    "print(df9['died'].sum(), df9['died'].count()-df9['died'].sum())\n",
    "print(df10['died'].sum(), df10['died'].count()-df10['died'].sum())"
   ]
  },
  {
   "cell_type": "code",
   "execution_count": 66,
   "metadata": {},
   "outputs": [
    {
     "name": "stdout",
     "output_type": "stream",
     "text": [
      "1096.3617198593715 23013.63828014063\n",
      "1921.2885933495622 10556.711406650438\n",
      "1879.7696628949745 5835.230337105026\n",
      "2194.2778506200866 4216.722149379913\n",
      "1465.8291965418193 1811.1708034581807\n",
      "1106.0881179175676 919.9118820824324\n",
      "597.377271107943 326.622728892057\n",
      "581.5577761205202 200.4422238794798\n",
      "401.5112863185132 70.48871368148679\n",
      "145.6207719260301 10.379228073969898\n"
     ]
    }
   ],
   "source": [
    "print(df1['SAPS2SCORE'].sum(), df1['SAPS2SCORE'].count()-df1['SAPS2SCORE'].sum())\n",
    "print(df2['SAPS2SCORE'].sum(), df2['SAPS2SCORE'].count()-df2['SAPS2SCORE'].sum())\n",
    "print(df3['SAPS2SCORE'].sum(), df3['SAPS2SCORE'].count()-df3['SAPS2SCORE'].sum())\n",
    "print(df4['SAPS2SCORE'].sum(), df4['SAPS2SCORE'].count()-df4['SAPS2SCORE'].sum())\n",
    "print(df5['SAPS2SCORE'].sum(), df5['SAPS2SCORE'].count()-df5['SAPS2SCORE'].sum())\n",
    "print(df6['SAPS2SCORE'].sum(), df6['SAPS2SCORE'].count()-df6['SAPS2SCORE'].sum())\n",
    "print(df7['SAPS2SCORE'].sum(), df7['SAPS2SCORE'].count()-df7['SAPS2SCORE'].sum())\n",
    "print(df8['SAPS2SCORE'].sum(), df8['SAPS2SCORE'].count()-df8['SAPS2SCORE'].sum())\n",
    "print(df9['SAPS2SCORE'].sum(), df9['SAPS2SCORE'].count()-df9['SAPS2SCORE'].sum())\n",
    "print(df10['SAPS2SCORE'].sum(), df10['SAPS2SCORE'].count()-df10['SAPS2SCORE'].sum())"
   ]
  },
  {
   "cell_type": "code",
   "execution_count": 76,
   "metadata": {},
   "outputs": [
    {
     "data": {
      "image/png": "[encoded data removed]",
      "text/plain": [
       "<Figure size 432x288 with 1 Axes>"
      ]
     },
     "metadata": {},
     "output_type": "display_data"
    }
   ],
   "source": [
    "# data = np.random.randn(1000)\n",
    "data = np.asarray(mergedf['SAPS2SCORE'].tolist())\n",
    "values, base = np.histogram(data, bins = 40)\n",
    "cumulative = np.cumsum(values)\n",
    "plt.plot(base[:-1],cumulative, c= 'blue')\n",
    "plt.plot(base[:-1],len(data)-cumulative, c=\"green\")\n",
    "plt.show()"
   ]
  },
  {
   "cell_type": "code",
   "execution_count": 78,
   "metadata": {},
   "outputs": [],
   "source": [
    "\n",
    "#START HERE\n",
    "sqluser = 'postgres'\n",
    "sourcedb = 'mimic'\n",
    "schema_name = 'mimiciii'\n",
    "pw = 'postgres'\n",
    "targetdb = 'munge'\n",
    "\n",
    "starttime = time()\n",
    "host = '/var/run/postgresql/'\n",
    "con = psycopg2.connect(user=sqluser,\n",
    "                       password=pw,\n",
    "                       host=host,\n",
    "                       dbname=targetdb)\n",
    "con.set_isolation_level(ISOLATION_LEVEL_AUTOCOMMIT)\n",
    "cursor = con.cursor()\n",
    "\n",
    "#Getting Data\n",
    "\n",
    "f_list = pd.read_sql('select distinct feature from featureset_a', con)['feature'].tolist()\n",
    "real = pd.read_sql('select * from context;',con)\n",
    "ss = ''\n",
    "for f in f_list:\n",
    "    ss += 'avg({0}) as {0},'.format(f)\n",
    "ss = ss[:-1]\n",
    "avg_real = pd.read_sql('select hadm_id, {0} from timetable group by hadm_id;'.format(ss),con)\n",
    "realdf = real.merge(avg_real, how='inner', on='hadm_id')\n",
    "realdf['gcs_total'] = realdf.gcs_e+realdf.gcs_m+realdf.gcs_v\n",
    "real_iculist = realdf['icustay_id'].tolist()\n"
   ]
  },
  {
   "cell_type": "code",
   "execution_count": 79,
   "metadata": {},
   "outputs": [
    {
     "data": {
      "text/plain": [
       "Index(['icustay_id', 'hadm_id', 'subject_id', 'dbsource', 'first_careunit',\n",
       "       'last_careunit', 'first_wardid', 'last_wardid', 'intime', 'outtime',\n",
       "       'admittime', 'dischtime', 'deathtime', 'admission_type',\n",
       "       'admission_location', 'discharge_location', 'insurance', 'language',\n",
       "       'religion', 'marital_status', 'ethnicity', 'edregtime', 'edouttime',\n",
       "       'diagnosis', 'hospital_expire_flag', 'has_chartevents_data', 'gender',\n",
       "       'dob', 'dod', 'dod_hosp', 'dod_ssn', 'expire_flag', 'ser_ind',\n",
       "       'age_at_death', 'age_at_adm', 'los_total', 'died', 'icu_rank',\n",
       "       'adm_rank', 'nsurg', 'has_cancer', 'has_aids', 'has_heme', 'obs', 'gu',\n",
       "       'dent', 'csurg', 'omed', 'tsurg', 'nb', 'gyn', 'surg', 'nmed', 'med',\n",
       "       'ent', 'psurg', 'nbb', 'vsurg', 'cmed', 'traum', 'ortho', 'psych',\n",
       "       'pao2_fio2_ratio', 'ignore', 'gcs_v', 'potassium', 'heart_rate', 'sp02',\n",
       "       'creatinine', 'hematocrit', 'serum_bicarb', 'bun', 'resp_rate', 'gcs_m',\n",
       "       'sodium', 'chloride', 'wbc', 'gcs_e', 'systolic_bp', 'bilirubin',\n",
       "       'urine', 'body_temp', 'gcs_total'],\n",
       "      dtype='object')"
      ]
     },
     "execution_count": 79,
     "metadata": {},
     "output_type": "execute_result"
    }
   ],
   "source": [
    "realdf.columns"
   ]
  },
  {
   "cell_type": "code",
   "execution_count": 98,
   "metadata": {},
   "outputs": [
    {
     "data": {
      "text/plain": [
       "Index(['dbsource', 'first_careunit', 'last_careunit', 'admission_type',\n",
       "       'admission_location', 'discharge_location', 'insurance', 'language',\n",
       "       'religion', 'marital_status', 'ethnicity', 'diagnosis', 'gender'],\n",
       "      dtype='object')"
      ]
     },
     "execution_count": 98,
     "metadata": {},
     "output_type": "execute_result"
    }
   ],
   "source": [
    "realdf.select_dtypes('object').columns"
   ]
  },
  {
   "cell_type": "code",
   "execution_count": 99,
   "metadata": {},
   "outputs": [
    {
     "data": {
      "text/plain": [
       "array(['VT', 'NEWBORN', 'SEIZURE', ..., 'T8-T9 FRACTURE-UPPER BACK PAIN',\n",
       "       'AORTIC VALVE INSUFFICIENCY\\\\AORTIC VALVE REPLACEMENT ? MVR ? TRICUSPIC VALVE REPLACEMENT /SDA',\n",
       "       'ROOT ABSCESS'], dtype=object)"
      ]
     },
     "execution_count": 99,
     "metadata": {},
     "output_type": "execute_result"
    }
   ],
   "source": [
    "realdf.diagnosis.unique()"
   ]
  },
  {
   "cell_type": "code",
   "execution_count": 110,
   "metadata": {},
   "outputs": [],
   "source": [
    "dummies_list=['admission_type','insurance','language','religion','marital_status','ethnicity','gender']\n",
    "drop_list = ['icustay_id', 'hadm_id', 'subject_id', 'dbsource', 'first_careunit',\n",
    "       'last_careunit', 'first_wardid', 'last_wardid', 'intime', 'outtime',\n",
    "       'admittime', 'dischtime', 'deathtime','admission_location', 'discharge_location','edregtime', 'edouttime',\n",
    "       'diagnosis', 'hospital_expire_flag', 'has_chartevents_data',\n",
    "       'dob', 'dod', 'dod_hosp', 'dod_ssn', 'expire_flag', 'ser_ind','age_at_death','los_total']"
   ]
  },
  {
   "cell_type": "code",
   "execution_count": 103,
   "metadata": {},
   "outputs": [],
   "source": [
    "realdf = pd.get_dummies(realdf, columns=dummies_list)      "
   ]
  },
  {
   "cell_type": "code",
   "execution_count": 111,
   "metadata": {},
   "outputs": [],
   "source": [
    "realdf_log = realdf.drop(drop_list, axis=1)"
   ]
  },
  {
   "cell_type": "code",
   "execution_count": 112,
   "metadata": {},
   "outputs": [
    {
     "data": {
      "text/plain": [
       "(58351, 198)"
      ]
     },
     "execution_count": 112,
     "metadata": {},
     "output_type": "execute_result"
    }
   ],
   "source": [
    "realdf_log.shape"
   ]
  },
  {
   "cell_type": "code",
   "execution_count": 116,
   "metadata": {},
   "outputs": [],
   "source": [
    "X = realdf_log.drop('died',axis=1).values\n",
    "y = realdf_log[['died']].values"
   ]
  },
  {
   "cell_type": "code",
   "execution_count": 118,
   "metadata": {},
   "outputs": [
    {
     "ename": "ValueError",
     "evalue": "Input contains NaN, infinity or a value too large for dtype('float64').",
     "output_type": "error",
     "traceback": [
      "\u001b[0;31m---------------------------------------------------------------------------\u001b[0m",
      "\u001b[0;31mValueError\u001b[0m                                Traceback (most recent call last)",
      "\u001b[0;32m<ipython-input-118-d201e0c825fc>\u001b[0m in \u001b[0;36m<module>\u001b[0;34m()\u001b[0m\n\u001b[0;32m----> 1\u001b[0;31m \u001b[0mclf\u001b[0m \u001b[0;34m=\u001b[0m \u001b[0mLogisticRegression\u001b[0m\u001b[0;34m(\u001b[0m\u001b[0mrandom_state\u001b[0m\u001b[0;34m=\u001b[0m\u001b[0;36m0\u001b[0m\u001b[0;34m,\u001b[0m \u001b[0msolver\u001b[0m\u001b[0;34m=\u001b[0m\u001b[0;34m'lbfgs'\u001b[0m\u001b[0;34m,\u001b[0m \u001b[0mmulti_class\u001b[0m\u001b[0;34m=\u001b[0m\u001b[0;34m'multinomial'\u001b[0m\u001b[0;34m)\u001b[0m\u001b[0;34m.\u001b[0m\u001b[0mfit\u001b[0m\u001b[0;34m(\u001b[0m\u001b[0mX\u001b[0m\u001b[0;34m,\u001b[0m \u001b[0my\u001b[0m\u001b[0;34m)\u001b[0m\u001b[0;34m\u001b[0m\u001b[0m\n\u001b[0m",
      "\u001b[0;32m~/anaconda3/envs/pytorch_new/lib/python3.6/site-packages/sklearn/linear_model/logistic.py\u001b[0m in \u001b[0;36mfit\u001b[0;34m(self, X, y, sample_weight)\u001b[0m\n\u001b[1;32m   1221\u001b[0m \u001b[0;34m\u001b[0m\u001b[0m\n\u001b[1;32m   1222\u001b[0m         X, y = check_X_y(X, y, accept_sparse='csr', dtype=_dtype,\n\u001b[0;32m-> 1223\u001b[0;31m                          order=\"C\")\n\u001b[0m\u001b[1;32m   1224\u001b[0m         \u001b[0mcheck_classification_targets\u001b[0m\u001b[0;34m(\u001b[0m\u001b[0my\u001b[0m\u001b[0;34m)\u001b[0m\u001b[0;34m\u001b[0m\u001b[0m\n\u001b[1;32m   1225\u001b[0m         \u001b[0mself\u001b[0m\u001b[0;34m.\u001b[0m\u001b[0mclasses_\u001b[0m \u001b[0;34m=\u001b[0m \u001b[0mnp\u001b[0m\u001b[0;34m.\u001b[0m\u001b[0munique\u001b[0m\u001b[0;34m(\u001b[0m\u001b[0my\u001b[0m\u001b[0;34m)\u001b[0m\u001b[0;34m\u001b[0m\u001b[0m\n",
      "\u001b[0;32m~/anaconda3/envs/pytorch_new/lib/python3.6/site-packages/sklearn/utils/validation.py\u001b[0m in \u001b[0;36mcheck_X_y\u001b[0;34m(X, y, accept_sparse, dtype, order, copy, force_all_finite, ensure_2d, allow_nd, multi_output, ensure_min_samples, ensure_min_features, y_numeric, warn_on_dtype, estimator)\u001b[0m\n\u001b[1;32m    571\u001b[0m     X = check_array(X, accept_sparse, dtype, order, copy, force_all_finite,\n\u001b[1;32m    572\u001b[0m                     \u001b[0mensure_2d\u001b[0m\u001b[0;34m,\u001b[0m \u001b[0mallow_nd\u001b[0m\u001b[0;34m,\u001b[0m \u001b[0mensure_min_samples\u001b[0m\u001b[0;34m,\u001b[0m\u001b[0;34m\u001b[0m\u001b[0m\n\u001b[0;32m--> 573\u001b[0;31m                     ensure_min_features, warn_on_dtype, estimator)\n\u001b[0m\u001b[1;32m    574\u001b[0m     \u001b[0;32mif\u001b[0m \u001b[0mmulti_output\u001b[0m\u001b[0;34m:\u001b[0m\u001b[0;34m\u001b[0m\u001b[0m\n\u001b[1;32m    575\u001b[0m         y = check_array(y, 'csr', force_all_finite=True, ensure_2d=False,\n",
      "\u001b[0;32m~/anaconda3/envs/pytorch_new/lib/python3.6/site-packages/sklearn/utils/validation.py\u001b[0m in \u001b[0;36mcheck_array\u001b[0;34m(array, accept_sparse, dtype, order, copy, force_all_finite, ensure_2d, allow_nd, ensure_min_samples, ensure_min_features, warn_on_dtype, estimator)\u001b[0m\n\u001b[1;32m    451\u001b[0m                              % (array.ndim, estimator_name))\n\u001b[1;32m    452\u001b[0m         \u001b[0;32mif\u001b[0m \u001b[0mforce_all_finite\u001b[0m\u001b[0;34m:\u001b[0m\u001b[0;34m\u001b[0m\u001b[0m\n\u001b[0;32m--> 453\u001b[0;31m             \u001b[0m_assert_all_finite\u001b[0m\u001b[0;34m(\u001b[0m\u001b[0marray\u001b[0m\u001b[0;34m)\u001b[0m\u001b[0;34m\u001b[0m\u001b[0m\n\u001b[0m\u001b[1;32m    454\u001b[0m \u001b[0;34m\u001b[0m\u001b[0m\n\u001b[1;32m    455\u001b[0m     \u001b[0mshape_repr\u001b[0m \u001b[0;34m=\u001b[0m \u001b[0m_shape_repr\u001b[0m\u001b[0;34m(\u001b[0m\u001b[0marray\u001b[0m\u001b[0;34m.\u001b[0m\u001b[0mshape\u001b[0m\u001b[0;34m)\u001b[0m\u001b[0;34m\u001b[0m\u001b[0m\n",
      "\u001b[0;32m~/anaconda3/envs/pytorch_new/lib/python3.6/site-packages/sklearn/utils/validation.py\u001b[0m in \u001b[0;36m_assert_all_finite\u001b[0;34m(X)\u001b[0m\n\u001b[1;32m     42\u001b[0m             and not np.isfinite(X).all()):\n\u001b[1;32m     43\u001b[0m         raise ValueError(\"Input contains NaN, infinity\"\n\u001b[0;32m---> 44\u001b[0;31m                          \" or a value too large for %r.\" % X.dtype)\n\u001b[0m\u001b[1;32m     45\u001b[0m \u001b[0;34m\u001b[0m\u001b[0m\n\u001b[1;32m     46\u001b[0m \u001b[0;34m\u001b[0m\u001b[0m\n",
      "\u001b[0;31mValueError\u001b[0m: Input contains NaN, infinity or a value too large for dtype('float64')."
     ]
    }
   ],
   "source": [
    "clf = LogisticRegression(random_state=0, solver='lbfgs', multi_class='multinomial').fit(X, y)"
   ]
  },
  {
   "cell_type": "code",
   "execution_count": null,
   "metadata": {},
   "outputs": [],
   "source": []
  }
 ],
 "metadata": {
  "kernelspec": {
   "display_name": "Environment (conda_pytorch_new)",
   "language": "python",
   "name": "conda_pytorch_new"
  },
  "language_info": {
   "codemirror_mode": {
    "name": "ipython",
    "version": 3
   },
   "file_extension": ".py",
   "mimetype": "text/x-python",
   "name": "python",
   "nbconvert_exporter": "python",
   "pygments_lexer": "ipython3",
   "version": "3.6.6"
  }
 },
 "nbformat": 4,
 "nbformat_minor": 2
}
