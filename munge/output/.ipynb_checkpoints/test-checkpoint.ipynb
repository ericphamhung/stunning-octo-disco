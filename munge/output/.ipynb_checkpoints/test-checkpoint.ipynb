{
 "cells": [
  {
   "cell_type": "code",
   "execution_count": 70,
   "metadata": {},
   "outputs": [],
   "source": [
    "import luigi\n",
    "import psycopg2\n",
    "import pandas as pd\n",
    "import datetime\n",
    "from luigi.contrib import postgres\n",
    "from luigi.contrib import rdbms\n",
    "import subprocess\n",
    "from psycopg2.extensions import ISOLATION_LEVEL_AUTOCOMMIT\n",
    "from sqlalchemy import create_engine\n",
    "import numpy as np\n",
    "import os\n",
    "from time import time\n",
    "import seaborn as sns\n",
    "import math\n",
    "# from __future__ import division\n",
    "sqluser = 'postgres'\n",
    "sourcedb = 'mimic'\n",
    "schema_name = 'mimiciii'\n",
    "pw = 'postgres'\n",
    "targetdb = 'munge'"
   ]
  },
  {
   "cell_type": "code",
   "execution_count": 71,
   "metadata": {},
   "outputs": [],
   "source": [
    "con=psycopg2.connect(user=sqluser,\n",
    "                     password=pw,\n",
    "                     host='/var/run/postgresql/',\n",
    "                     dbname=targetdb)\n",
    "con.set_isolation_level(ISOLATION_LEVEL_AUTOCOMMIT)\n",
    "cursor = con.cursor()"
   ]
  },
  {
   "cell_type": "code",
   "execution_count": 72,
   "metadata": {},
   "outputs": [
    {
     "name": "stdout",
     "output_type": "stream",
     "text": [
      "1.8502354621887207\n"
     ]
    }
   ],
   "source": [
    "t=time()\n",
    "df = pd.read_sql('select * from context;',con)\n",
    "print(time()-t)"
   ]
  },
  {
   "cell_type": "code",
   "execution_count": 73,
   "metadata": {},
   "outputs": [
    {
     "name": "stdout",
     "output_type": "stream",
     "text": [
      "0.0034868717193603516\n"
     ]
    }
   ],
   "source": [
    "t=time()\n",
    "f_list = pd.read_sql('select distinct feature from featureset_a', con)['feature'].tolist()\n",
    "print(time()-t)"
   ]
  },
  {
   "cell_type": "code",
   "execution_count": 74,
   "metadata": {},
   "outputs": [],
   "source": [
    "ss = ''\n",
    "for f in f_list:\n",
    "    ss += 'avg({0}) as {0},'.format(f)\n",
    "ss = ss[:-1]"
   ]
  },
  {
   "cell_type": "code",
   "execution_count": 75,
   "metadata": {},
   "outputs": [
    {
     "name": "stdout",
     "output_type": "stream",
     "text": [
      "17.992286205291748\n"
     ]
    }
   ],
   "source": [
    "t=time()\n",
    "avg_df = pd.read_sql('select hadm_id, {0} from timetable group by hadm_id;'.format(ss),con)\n",
    "print(time()-t)"
   ]
  },
  {
   "cell_type": "code",
   "execution_count": 76,
   "metadata": {},
   "outputs": [
    {
     "name": "stdout",
     "output_type": "stream",
     "text": [
      "0.15645480155944824\n"
     ]
    }
   ],
   "source": [
    "t=time()\n",
    "newdf = df.merge(avg_df, how='inner', on='hadm_id')\n",
    "print(time()-t)\n",
    "newdf['gcs_total'] = newdf.gcs_e+newdf.gcs_m+newdf.gcs_v"
   ]
  },
  {
   "cell_type": "code",
   "execution_count": 77,
   "metadata": {},
   "outputs": [
    {
     "data": {
      "text/plain": [
       "Index(['icustay_id', 'hadm_id', 'subject_id', 'dbsource', 'first_careunit',\n",
       "       'last_careunit', 'first_wardid', 'last_wardid', 'intime', 'outtime',\n",
       "       'admittime', 'dischtime', 'deathtime', 'admission_type',\n",
       "       'admission_location', 'discharge_location', 'insurance', 'language',\n",
       "       'religion', 'marital_status', 'ethnicity', 'edregtime', 'edouttime',\n",
       "       'diagnosis', 'hospital_expire_flag', 'has_chartevents_data', 'gender',\n",
       "       'dob', 'dod', 'dod_hosp', 'dod_ssn', 'expire_flag', 'ser_ind',\n",
       "       'age_at_death', 'age_at_adm', 'los_total', 'died', 'icu_rank',\n",
       "       'adm_rank', 'nsurg', 'has_cancer', 'has_aids', 'has_heme', 'obs', 'gu',\n",
       "       'dent', 'csurg', 'omed', 'tsurg', 'nb', 'gyn', 'surg', 'nmed', 'med',\n",
       "       'ent', 'psurg', 'nbb', 'vsurg', 'cmed', 'traum', 'ortho', 'psych',\n",
       "       'pao2_fio2_ratio', 'ignore', 'gcs_v', 'potassium', 'heart_rate', 'sp02',\n",
       "       'creatinine', 'hematocrit', 'serum_bicarb', 'bun', 'resp_rate', 'gcs_m',\n",
       "       'sodium', 'chloride', 'wbc', 'gcs_e', 'systolic_bp', 'bilirubin',\n",
       "       'urine', 'body_temp', 'gcs_total'],\n",
       "      dtype='object')"
      ]
     },
     "execution_count": 77,
     "metadata": {},
     "output_type": "execute_result"
    }
   ],
   "source": [
    "newdf.columns"
   ]
  },
  {
   "cell_type": "code",
   "execution_count": 78,
   "metadata": {},
   "outputs": [],
   "source": [
    "SAPS_score = 5\n",
    "x = -7.7631 + (0.0737 * (SAPS_score)) + (0.9971 * (math.log(SAPS_score +1)))\n",
    "mort = math.exp(x)/(1+math.exp(x))"
   ]
  },
  {
   "cell_type": "code",
   "execution_count": 144,
   "metadata": {},
   "outputs": [],
   "source": [
    "def getsaps2(dff, idid):\n",
    "    SAPS_score = 0\n",
    "    dff=dff[dff['icustay_id']==idid]\n",
    "    #AGE\n",
    "    var = 'age_at_adm'\n",
    "    if dff.iloc[0][var]<40:\n",
    "        pass\n",
    "    elif dff.iloc[0][var]<60:\n",
    "        SAPS_score += 7\n",
    "    elif dff.iloc[0][var]<70:\n",
    "        SAPS_score += 12\n",
    "    elif dff.iloc[0][var]<75:\n",
    "        SAPS_score += 15\n",
    "    elif dff.iloc[0][var]<80:\n",
    "        SAPS_score += 16\n",
    "    else:\n",
    "        SAPS_score += 18\n",
    "    #HEART RATE\n",
    "    var = 'heart_rate'\n",
    "    if math.isnan(dff.iloc[0][var]):\n",
    "        pass\n",
    "    elif dff.iloc[0][var]<40:\n",
    "        SAPS_score += 11\n",
    "    elif dff.iloc[0][var]<70:\n",
    "        SAPS_score += 2\n",
    "    elif dff.iloc[0][var]<120:\n",
    "        SAPS_score += 0\n",
    "    elif dff.iloc[0][var]<160:\n",
    "        SAPS_score += 4\n",
    "    else:\n",
    "        SAPS_score += 7\n",
    "    #SYSTOLIC BP\n",
    "    var = 'systolic_bp'\n",
    "    if math.isnan(dff.iloc[0][var]):\n",
    "        pass\n",
    "    elif dff.iloc[0][var]<70:\n",
    "        SAPS_score += 13\n",
    "    elif dff.iloc[0][var]<100:\n",
    "        SAPS_score += 5\n",
    "    elif dff.iloc[0][var]<200:\n",
    "        SAPS_score += 0\n",
    "    else:\n",
    "        SAPS_score += 2\n",
    "    #BODY TEMP\n",
    "    var = 'body_temp'\n",
    "    if math.isnan(dff.iloc[0][var]):\n",
    "        pass    \n",
    "    elif dff.iloc[0][var]<39:\n",
    "        SAPS_score += 0\n",
    "    else:\n",
    "        SAPS_score += 3\n",
    "    #GCS Total\n",
    "    var = 'gcs_total'\n",
    "    if math.isnan(dff.iloc[0][var]):\n",
    "        pass\n",
    "    elif dff.iloc[0][var]<6:\n",
    "        SAPS_score += 26\n",
    "    elif dff.iloc[0][var]<8:\n",
    "        SAPS_score += 13\n",
    "    elif dff.iloc[0][var]<10:\n",
    "        SAPS_score += 7\n",
    "    elif dff.iloc[0][var]<14:\n",
    "        SAPS_score += 5\n",
    "    else:\n",
    "        SAPS_score += 0\n",
    "    #PAO2/FIO2\n",
    "    var = 'pao2_fio2_ratio'\n",
    "    if math.isnan(dff.iloc[0][var]):\n",
    "        pass\n",
    "    elif dff.iloc[0][var]<100:\n",
    "        SAPS_score += 11\n",
    "    elif dff.iloc[0][var]<200:\n",
    "        SAPS_score += 9\n",
    "    else:\n",
    "        SAPS_score += 6\n",
    "    #BUN\n",
    "    var = 'bun'\n",
    "    if math.isnan(dff.iloc[0][var]):\n",
    "        pass    \n",
    "    elif dff.iloc[0][var]<28:\n",
    "        SAPS_score += 0\n",
    "    elif dff.iloc[0][var]<84:\n",
    "        SAPS_score += 6\n",
    "    else:\n",
    "        SAPS_score += 10\n",
    "    #URINE\n",
    "    var='urine'\n",
    "    if math.isnan(dff.iloc[0][var]):\n",
    "        pass    \n",
    "    elif dff.iloc[0][var]<500:\n",
    "        SAPS_score += 11\n",
    "    elif dff.iloc[0][var]<1000:\n",
    "        SAPS_score += 4\n",
    "    else:\n",
    "        SAPS_score += 0\n",
    "    #SODIUM\n",
    "    var='sodium'\n",
    "    if math.isnan(dff.iloc[0][var]):\n",
    "        pass    \n",
    "    elif dff.iloc[0][var]<125:\n",
    "        SAPS_score += 5\n",
    "    elif dff.iloc[0][var]<145:\n",
    "        SAPS_score += 0\n",
    "    else:\n",
    "        SAPS_score += 1\n",
    "    #POTASSIUM\n",
    "    var='potassium'\n",
    "    if math.isnan(dff.iloc[0][var]):\n",
    "        pass\n",
    "    elif dff.iloc[0][var]<3:\n",
    "        SAPS_score += 3\n",
    "    elif dff.iloc[0][var]<5:\n",
    "        SAPS_score += 0\n",
    "    else:\n",
    "        SAPS_score += 3\n",
    "    #BICARRBONATE\n",
    "    var='serum_bicarb'\n",
    "    if math.isnan(dff.iloc[0][var]):\n",
    "        pass    \n",
    "    elif dff.iloc[0][var]<15:\n",
    "        SAPS_score += 6\n",
    "    elif dff.iloc[0][var]<20:\n",
    "        SAPS_score += 3\n",
    "    else:\n",
    "        SAPS_score += 0\n",
    "    #BILIRUBIN\n",
    "    var='bilirubin'\n",
    "    if math.isnan(dff.iloc[0][var]):\n",
    "        pass\n",
    "    elif dff.iloc[0][var]<4:\n",
    "        SAPS_score += 0\n",
    "    elif dff.iloc[0][var]<6:\n",
    "        SAPS_score += 4\n",
    "    else:\n",
    "        SAPS_score += 9\n",
    "    #WBC\n",
    "    var='wbc'\n",
    "    if math.isnan(dff.iloc[0][var]):\n",
    "        pass\n",
    "    elif dff.iloc[0][var]<1:\n",
    "        SAPS_score += 12\n",
    "    elif dff.iloc[0][var]<20:\n",
    "        SAPS_score += 0\n",
    "    else:\n",
    "        SAPS_score += 3\n",
    "    #CHRONIC DISEASE\n",
    "    if dff.iloc[0]['has_aids']==1:\n",
    "        SAPS_score += 17\n",
    "    elif dff.iloc[0]['has_heme']==1:\n",
    "        SAPS_score += 10\n",
    "    elif dff.iloc[0]['has_cancer']==1:\n",
    "        SAPS_score += 9\n",
    "    else:\n",
    "        SAPS_score += 0    \n",
    "    \n",
    "    x = -7.7631 + (0.0737 * (SAPS_score)) + (0.9971 * (math.log(SAPS_score +1)))\n",
    "    mort = math.exp(x)/(1+math.exp(x))\n",
    "    \n",
    "    return mort"
   ]
  },
  {
   "cell_type": "code",
   "execution_count": 142,
   "metadata": {},
   "outputs": [],
   "source": [
    "iculist = newdf['icustay_id'].tolist()"
   ]
  },
  {
   "cell_type": "code",
   "execution_count": null,
   "metadata": {},
   "outputs": [],
   "source": [
    "testdf = pd.DataFrame()\n",
    "for i in iculist:\n",
    "    tempdf = pd.DataFrame({'icustay_id':[i], 'SAPS2SCORE':[getsaps2(newdf,i)]})\n",
    "    testdf = pd.concat([testdf,tempdf])\n"
   ]
  },
  {
   "cell_type": "code",
   "execution_count": 149,
   "metadata": {},
   "outputs": [
    {
     "data": {
      "text/plain": [
       "count    586.000000\n",
       "mean       0.131065\n",
       "std        0.164321\n",
       "min        0.000425\n",
       "25%        0.008501\n",
       "50%        0.071716\n",
       "75%        0.196366\n",
       "max        0.925159\n",
       "Name: SAPS2SCORE, dtype: float64"
      ]
     },
     "execution_count": 149,
     "metadata": {},
     "output_type": "execute_result"
    }
   ],
   "source": [
    "testdf['SAPS2SCORE'].describe()"
   ]
  },
  {
   "cell_type": "code",
   "execution_count": 150,
   "metadata": {},
   "outputs": [
    {
     "data": {
      "text/html": [
       "<div>\n",
       "<style scoped>\n",
       "    .dataframe tbody tr th:only-of-type {\n",
       "        vertical-align: middle;\n",
       "    }\n",
       "\n",
       "    .dataframe tbody tr th {\n",
       "        vertical-align: top;\n",
       "    }\n",
       "\n",
       "    .dataframe thead th {\n",
       "        text-align: right;\n",
       "    }\n",
       "</style>\n",
       "<table border=\"1\" class=\"dataframe\">\n",
       "  <thead>\n",
       "    <tr style=\"text-align: right;\">\n",
       "      <th></th>\n",
       "      <th>icustay_id</th>\n",
       "      <th>SAPS2SCORE</th>\n",
       "    </tr>\n",
       "  </thead>\n",
       "  <tbody>\n",
       "    <tr>\n",
       "      <th>0</th>\n",
       "      <td>209931.0</td>\n",
       "      <td>0.008131</td>\n",
       "    </tr>\n",
       "    <tr>\n",
       "      <th>0</th>\n",
       "      <td>285108.0</td>\n",
       "      <td>0.096698</td>\n",
       "    </tr>\n",
       "    <tr>\n",
       "      <th>0</th>\n",
       "      <td>211109.0</td>\n",
       "      <td>0.002833</td>\n",
       "    </tr>\n",
       "    <tr>\n",
       "      <th>0</th>\n",
       "      <td>287355.0</td>\n",
       "      <td>0.096698</td>\n",
       "    </tr>\n",
       "    <tr>\n",
       "      <th>0</th>\n",
       "      <td>224546.0</td>\n",
       "      <td>0.005631</td>\n",
       "    </tr>\n",
       "  </tbody>\n",
       "</table>\n",
       "</div>"
      ],
      "text/plain": [
       "   icustay_id  SAPS2SCORE\n",
       "0    209931.0    0.008131\n",
       "0    285108.0    0.096698\n",
       "0    211109.0    0.002833\n",
       "0    287355.0    0.096698\n",
       "0    224546.0    0.005631"
      ]
     },
     "execution_count": 150,
     "metadata": {},
     "output_type": "execute_result"
    }
   ],
   "source": [
    "testdf.head()"
   ]
  },
  {
   "cell_type": "code",
   "execution_count": null,
   "metadata": {},
   "outputs": [],
   "source": []
  }
 ],
 "metadata": {
  "kernelspec": {
   "display_name": "Environment (conda_pytorch_new)",
   "language": "python",
   "name": "conda_pytorch_new"
  },
  "language_info": {
   "codemirror_mode": {
    "name": "ipython",
    "version": 3
   },
   "file_extension": ".py",
   "mimetype": "text/x-python",
   "name": "python",
   "nbconvert_exporter": "python",
   "pygments_lexer": "ipython3",
   "version": "3.6.6"
  }
 },
 "nbformat": 4,
 "nbformat_minor": 2
}
