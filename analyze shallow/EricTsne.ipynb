{
 "cells": [
  {
   "cell_type": "code",
   "execution_count": 123,
   "metadata": {},
   "outputs": [],
   "source": [
    "import numpy as np\n",
    "import pandas as pd\n",
    "from sklearn import preprocessing\n",
    "import seaborn as sns\n",
    "import matplotlib.pyplot as plt\n",
    "from time import time\n",
    "from sklearn.manifold import TSNE\n",
    "from scipy import stats\n"
   ]
  },
  {
   "cell_type": "code",
   "execution_count": 116,
   "metadata": {},
   "outputs": [
    {
     "name": "stdout",
     "output_type": "stream",
     "text": [
      "(6564, 3084) (6564, 3077)\n"
     ]
    }
   ],
   "source": [
    "real = pd.read_csv(\"complete_data_except_age_at_death.csv\")\n",
    "synthetic = pd.read_csv(\"autoencoded_complete_data_except_age_at_death.csv\")\n",
    "print(real.shape, synthetic.shape)"
   ]
  },
  {
   "cell_type": "code",
   "execution_count": 117,
   "metadata": {},
   "outputs": [],
   "source": [
    "real = real.drop(columns=['icustay_id','hadm_id','subject_id','first_wardid',\n",
    "                          'last_wardid','has_chartevents_data','ser_ind'])"
   ]
  },
  {
   "cell_type": "code",
   "execution_count": 120,
   "metadata": {},
   "outputs": [],
   "source": [
    "icdcols = [c for c in real.columns.tolist() if 'p_icd' in c]\n",
    "\n",
    "\n",
    "columns=['hospital_expire_flag'\n",
    "         #,'expire_flag'\n",
    "         #,'los_total'\n",
    "         #,'died'\n",
    "         ,'age_at_death'\n",
    "        ]\n",
    "columns.extend(icdcols)\n",
    "Xr = real.drop(columns=columns).values\n",
    "Xs = synthetic.drop(columns=columns).values\n",
    "\n",
    "\n"
   ]
  },
  {
   "cell_type": "code",
   "execution_count": 121,
   "metadata": {},
   "outputs": [
    {
     "name": "stdout",
     "output_type": "stream",
     "text": [
      "took 1212.6495056152344\n"
     ]
    }
   ],
   "source": [
    "t= time()\n",
    "Xr_embed = TSNE(n_components=3).fit_transform(Xr)\n",
    "Xs_embed = TSNE(n_components=3).fit_transform(Xs)\n",
    "print(\"took {}\".format(time()-t))"
   ]
  },
  {
   "cell_type": "code",
   "execution_count": 93,
   "metadata": {},
   "outputs": [],
   "source": [
    "Yr = real[['hospital_expire_flag']].values\n",
    "Ys = synthetic[['hospital_expire_flag']].values\n",
    "\n",
    "TSNErl = np.concatenate((Xr_embed,Yr),axis=1)\n",
    "TSNEsl = np.concatenate((Xs_embed,Ys),axis=1)"
   ]
  },
  {
   "cell_type": "code",
   "execution_count": 94,
   "metadata": {},
   "outputs": [],
   "source": [
    "TSNErall = pd.DataFrame(TSNErl, columns=[\"x\",\"y\",\"z\",\"died\"])\n",
    "TSNEsall = pd.DataFrame(TSNEsl, columns=[\"x\",\"y\",\"z\",\"died\"])"
   ]
  },
  {
   "cell_type": "code",
   "execution_count": 95,
   "metadata": {},
   "outputs": [],
   "source": [
    "TSNE_ralive = TSNErall[TSNErall[\"died\"]==0]\n",
    "TSNE_rdied = TSNErall[TSNErall[\"died\"]==1]\n",
    "TSNE_salive = TSNEsall[TSNEsall[\"died\"]==0]\n",
    "TSNE_sdied = TSNEsall[TSNEsall[\"died\"]==1]"
   ]
  },
  {
   "cell_type": "code",
   "execution_count": 96,
   "metadata": {},
   "outputs": [],
   "source": [
    "TSNE_ralive = TSNE_ralive.drop(columns='died')\n",
    "TSNE_rdied = TSNE_rdied.drop(columns='died')\n",
    "TSNE_salive = TSNE_salive.drop(columns='died')\n",
    "TSNE_sdied = TSNE_sdied.drop(columns='died')"
   ]
  },
  {
   "cell_type": "code",
   "execution_count": 97,
   "metadata": {},
   "outputs": [],
   "source": [
    "TSNE_ralive.to_csv('/home/ubuntu/analyze_shallow/TSNE_r_alive.csv')\n",
    "TSNE_rdied.to_csv('/home/ubuntu/analyze_shallow/TSNE_r_died.csv')\n",
    "TSNE_salive.to_csv('/home/ubuntu/analyze_shallow/TSNE_s_alive.csv')\n",
    "TSNE_sdied.to_csv('/home/ubuntu/analyze_shallow/TSNE_s_died.csv')"
   ]
  },
  {
   "cell_type": "code",
   "execution_count": null,
   "metadata": {},
   "outputs": [],
   "source": []
  },
  {
   "cell_type": "code",
   "execution_count": 100,
   "metadata": {},
   "outputs": [],
   "source": [
    "XrXr = real.drop(columns=columns)"
   ]
  },
  {
   "cell_type": "code",
   "execution_count": 124,
   "metadata": {},
   "outputs": [],
   "source": [
    "t ,p = stats.ttest_ind(real['age_at_death'].dropna(), synthetic['age_at_death'].dropna())"
   ]
  },
  {
   "cell_type": "code",
   "execution_count": 149,
   "metadata": {},
   "outputs": [],
   "source": [
    "def get_pval(v1):\n",
    "    t ,p = stats.ttest_ind(real[v1].dropna(), synthetic[v1].dropna())\n",
    "    return '''ttest result:   p = %g  \n",
    "    t = %g '''  %(p,t)"
   ]
  },
  {
   "cell_type": "code",
   "execution_count": 150,
   "metadata": {},
   "outputs": [
    {
     "data": {
      "text/plain": [
       "'ttest result:   p = 5.25442e-54  \\n    t = 15.5444 '"
      ]
     },
     "execution_count": 150,
     "metadata": {},
     "output_type": "execute_result"
    }
   ],
   "source": [
    "get_pval('avrg_16_1')"
   ]
  },
  {
   "cell_type": "code",
   "execution_count": null,
   "metadata": {},
   "outputs": [],
   "source": []
  }
 ],
 "metadata": {
  "kernelspec": {
   "display_name": "Python [conda env:eric]",
   "language": "python",
   "name": "conda-env-eric-py"
  },
  "language_info": {
   "codemirror_mode": {
    "name": "ipython",
    "version": 3
   },
   "file_extension": ".py",
   "mimetype": "text/x-python",
   "name": "python",
   "nbconvert_exporter": "python",
   "pygments_lexer": "ipython3",
   "version": "3.6.6"
  }
 },
 "nbformat": 4,
 "nbformat_minor": 2
}
